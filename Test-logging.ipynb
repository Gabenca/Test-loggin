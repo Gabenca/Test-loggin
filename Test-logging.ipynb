{
 "cells": [
  {
   "cell_type": "code",
   "execution_count": 1,
   "metadata": {},
   "outputs": [],
   "source": [
    "import logging\n",
    "import requests"
   ]
  },
  {
   "cell_type": "code",
   "execution_count": 47,
   "metadata": {},
   "outputs": [],
   "source": [
    "def request(url):\n",
    "    logger = logging.getLogger(\"exampleApp\")\n",
    "    logger.setLevel(logging.INFO)\n",
    "    \n",
    "    # create the logging file handler\n",
    "    headfh = url[8:-1]\n",
    "    fh = logging.FileHandler(f\"log-{headfh}.log\")\n",
    " \n",
    "    formatter = logging.Formatter('%(asctime)s - %(name)s - %(levelname)s - %(message)s')\n",
    "    fh.setFormatter(formatter)\n",
    "    \n",
    "    # add handler to logger object\n",
    "    logger.addHandler(fh)\n",
    "    try:\n",
    "        rs = requests.get(url, timeout=10)\n",
    "    except requests.Timeout:\n",
    "        logger.info(\"ошибка timeout, url:\", url)\n",
    "    except requests.HTTPError as err:\n",
    "        code = rs.status_code\n",
    "        logger.info(f\"ошибка url: {url}, code: {code}\")\n",
    "    except requests.RequestException:\n",
    "        logger.info(\"ошибка скачивания url: \", url)\n",
    "    except requests.ConnectionError:\n",
    "        logger.info(\"ошибка подключения к url: \", url)  \n",
    "    except requests.TooManyRedirects:\n",
    "        logger.info(\"ошибка слишком много обращений к url: \", url) \n",
    "    else:\n",
    "        code = rs.status_code\n",
    "        logger.info(f\"Запрос к url: {url} завершился с кодом: {code}\")"
   ]
  },
  {
   "cell_type": "code",
   "execution_count": 48,
   "metadata": {},
   "outputs": [],
   "source": [
    "request('https://yandex.ru/')"
   ]
  },
  {
   "cell_type": "code",
   "execution_count": null,
   "metadata": {},
   "outputs": [],
   "source": []
  }
 ],
 "metadata": {
  "kernelspec": {
   "display_name": "Python 3",
   "language": "python",
   "name": "python3"
  },
  "language_info": {
   "codemirror_mode": {
    "name": "ipython",
    "version": 3
   },
   "file_extension": ".py",
   "mimetype": "text/x-python",
   "name": "python",
   "nbconvert_exporter": "python",
   "pygments_lexer": "ipython3",
   "version": "3.8.1"
  }
 },
 "nbformat": 4,
 "nbformat_minor": 4
}
